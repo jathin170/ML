{
  "nbformat": 4,
  "nbformat_minor": 0,
  "metadata": {
    "colab": {
      "provenance": [],
      "authorship_tag": "ABX9TyPaoMKgvTvovPmzDqfcE1A7",
      "include_colab_link": true
    },
    "kernelspec": {
      "name": "python3",
      "display_name": "Python 3"
    },
    "language_info": {
      "name": "python"
    }
  },
  "cells": [
    {
      "cell_type": "markdown",
      "metadata": {
        "id": "view-in-github",
        "colab_type": "text"
      },
      "source": [
        "<a href=\"https://colab.research.google.com/github/jathin170/ML/blob/main/Assignment_3_Q3.ipynb\" target=\"_parent\"><img src=\"https://colab.research.google.com/assets/colab-badge.svg\" alt=\"Open In Colab\"/></a>"
      ]
    },
    {
      "cell_type": "code",
      "execution_count": 1,
      "metadata": {
        "id": "Lko2ezQGqz3W"
      },
      "outputs": [],
      "source": [
        "import numpy as np\n",
        "\n",
        "\n"
      ]
    },
    {
      "cell_type": "code",
      "source": [
        "N = 10\n",
        "vector_x = np.array([10, 12, 18, 22, 29, 33, 37, 41, 25, 19])\n",
        "vector_y = np.array([8, 11, 17, 23, 28, 32, 35, 39, 22, 16])\n",
        "\n",
        "mean_x = np.mean(vector_x)\n",
        "mean_y = np.mean(vector_y)"
      ],
      "metadata": {
        "id": "Usi-b1Xjq42m"
      },
      "execution_count": 2,
      "outputs": []
    },
    {
      "cell_type": "code",
      "source": [
        "covariance = np.sum((vector_x - mean_x) * (vector_y - mean_y)) / (N - 1)\n",
        "\n",
        "variance_x = np.var(vector_x, ddof=1)\n",
        "variance_y = np.var(vector_y, ddof=1)\n",
        "\n",
        "correlation = covariance / np.sqrt(variance_x * variance_y)"
      ],
      "metadata": {
        "id": "s2SAXWQfq48r"
      },
      "execution_count": 3,
      "outputs": []
    },
    {
      "cell_type": "code",
      "source": [
        "print(f'Vector X (1x{N} vector): {vector_x}')\n",
        "print(f'Vector Y (1x{N} vector): {vector_y}')\n",
        "print(f'Correlation: {correlation:.4f}')\n"
      ],
      "metadata": {
        "colab": {
          "base_uri": "https://localhost:8080/"
        },
        "id": "R8HZ_pFAq5DW",
        "outputId": "140c4322-ed8a-41cd-a916-4a3578fe437d"
      },
      "execution_count": 4,
      "outputs": [
        {
          "output_type": "stream",
          "name": "stdout",
          "text": [
            "Vector X (1x10 vector): [10 12 18 22 29 33 37 41 25 19]\n",
            "Vector Y (1x10 vector): [ 8 11 17 23 28 32 35 39 22 16]\n",
            "Correlation: 0.9935\n"
          ]
        }
      ]
    }
  ]
}